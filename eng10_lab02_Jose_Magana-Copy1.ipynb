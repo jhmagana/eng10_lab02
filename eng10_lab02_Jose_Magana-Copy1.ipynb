{
 "cells": [
  {
   "cell_type": "markdown",
   "metadata": {},
   "source": [
    "# ENG 10: Lab 2 (Multiple Variables)\n",
    "In this lab we will explore functions of multiple variables, partial derivatives and vectors."
   ]
  },
  {
   "cell_type": "code",
   "execution_count": 3,
   "metadata": {
    "collapsed": true
   },
   "outputs": [],
   "source": [
    "# load required packages\n",
    "import numpy as np\n",
    "import matplotlib.pyplot as plt\n",
    "%matplotlib inline\n",
    "\n",
    "# extra plotting tools (for 3D plots)\n",
    "from mpl_toolkits.mplot3d import axes3d\n",
    "\n",
    "# enable interactive plots\n",
    "from ipywidgets.widgets import interact, fixed, FloatSlider\n",
    "\n",
    "# ensure code is compatible with both Python 2.7 and 3.5\n",
    "from __future__ import print_function, division"
   ]
  },
  {
   "cell_type": "markdown",
   "metadata": {},
   "source": [
    "## 0) Review\n",
    "Let's briefly review some of the basics of Python:\n",
    "- starting Jupyter Notebook\n",
    "- opening a notebook file\n",
    "- cells:\n",
    "    - code cells: for writing and executing Python code\n",
    "    - Markdown cells: for writing text and answering questions\n",
    "- variables\n",
    "- functions\n",
    "- plotting"
   ]
  },
  {
   "cell_type": "code",
   "execution_count": null,
   "metadata": {
    "collapsed": true
   },
   "outputs": [],
   "source": []
  },
  {
   "cell_type": "markdown",
   "metadata": {},
   "source": [
    "## 1) Vectors\n",
    "We've provide some code below for plotting vectors (``plot_vector``) and showing the parallelogram law of vector addition (``plot_vector_sum``). We'll use the code functions to try out some of the properties of vectors that we discussed in class."
   ]
  },
  {
   "cell_type": "code",
   "execution_count": 4,
   "metadata": {
    "collapsed": false
   },
   "outputs": [],
   "source": [
    "# RUN THIS CODE CELL AS-IS\n",
    "#\n",
    "# helper functions to plot vectors\n",
    "\n",
    "# plot a single vector\n",
    "def plot_vector(vec, name='vector', color='black'):\n",
    "    x = vec[0]\n",
    "    y = vec[1]\n",
    "    \n",
    "    # show the vector as a line\n",
    "    x_line = [0, x]\n",
    "    y_line = [0, y]\n",
    "    plt.plot(x_line, y_line, color=color, label=name)\n",
    "    \n",
    "    # show the end-point of the vector\n",
    "    plt.plot(x, y, color='k', marker='o', markersize=10)\n",
    "    \n",
    "    # set the axis range\n",
    "    plt.xlim([0, 10])\n",
    "    plt.ylim([0, 10])\n",
    "    \n",
    "    # add a legend\n",
    "    plt.legend()\n",
    "    \n",
    "    \n",
    "# plot the sum of two vectors\n",
    "def plot_vector_sum(u, v):   \n",
    "    # plot individual vectors\n",
    "    plot_vector(u, name='u', color='b')\n",
    "    plot_vector(v, name='v', color='g')\n",
    "    \n",
    "    # dashed u\n",
    "    u_dashed_x = [v[0], v[0] + u[0]]\n",
    "    u_dashed_y = [v[1], v[1] + u[1]]\n",
    "    plt.plot(u_dashed_x, u_dashed_y, 'b--', label='u*')\n",
    "    \n",
    "    # dashed v\n",
    "    v_dashed_x = [u[0], u[0] + v[0]]\n",
    "    v_dashed_y = [u[1], u[1] + v[1]]\n",
    "    plt.plot(v_dashed_x, v_dashed_y, 'g--', label='v*')\n",
    "    \n",
    "    # plot the sum: u + v\n",
    "    plot_vector(u + v, name='u + v', color='r')\n",
    "    \n",
    "    # add a legend outside the plot\n",
    "    plt.legend(bbox_to_anchor=(1.3, 0.8))\n",
    "\n",
    "    # change the axis range\n",
    "    plt.xlim([-15, 15])\n",
    "    plt.ylim([-15, 15])\n",
    "    \n",
    "    plt.show()"
   ]
  },
  {
   "cell_type": "markdown",
   "metadata": {},
   "source": [
    "## 1.1) Plot vectors\n",
    "First we will plot individual vectors."
   ]
  },
  {
   "cell_type": "code",
   "execution_count": 6,
   "metadata": {
    "collapsed": false
   },
   "outputs": [
    {
     "data": {
      "image/png": "[encoded data removed]",
      "text/plain": [
       "<matplotlib.figure.Figure at 0xafb1b99898>"
      ]
     },
     "metadata": {},
     "output_type": "display_data"
    }
   ],
   "source": [
    "# create a vector\n",
    "u = np.asarray([8, 8])\n",
    "\n",
    "# plot the vector\n",
    "plot_vector(u, name='u')"
   ]
  },
  {
   "cell_type": "markdown",
   "metadata": {},
   "source": [
    "**Task:** Try out multiple vectors in order to get a sense of how the numbers translate to the visualization."
   ]
  },
  {
   "cell_type": "markdown",
   "metadata": {},
   "source": [
    "## 1.2) Plot sums of vectors\n",
    "Now we'll try plotting the sum of two vectors (e.g. $u + v$)."
   ]
  },
  {
   "cell_type": "code",
   "execution_count": 7,
   "metadata": {
    "collapsed": false
   },
   "outputs": [
    {
     "data": {
      "image/png": "[encoded data removed]",
      "text/plain": [
       "<matplotlib.figure.Figure at 0xafb1c1e668>"
      ]
     },
     "metadata": {},
     "output_type": "display_data"
    }
   ],
   "source": [
    "# create the two vectors\n",
    "u = np.asarray([8, 1])\n",
    "v = np.asarray([5, 6])\n",
    "\n",
    "# plot the sum of the two vectors\n",
    "plot_vector_sum(u, v)"
   ]
  },
  {
   "cell_type": "markdown",
   "metadata": {},
   "source": [
    "**Task:** Try plotting multiple vectors (i.e. change the vector values and replot a few times)."
   ]
  },
  {
   "cell_type": "markdown",
   "metadata": {},
   "source": [
    "**Question:** What do the components in the plot mean:\n",
    "- $u$: vector u (8, 1)\n",
    "- $v$: vector v (5, 6)\n",
    "Parallelogram Rule\n",
    "- $u^*$: vector u compliment \n",
    "- $v^*$: vector v compliment\n",
    "\n",
    "- $u + v$: sum of vectors u and v"
   ]
  },
  {
   "cell_type": "markdown",
   "metadata": {},
   "source": [
    "## 1.3) Plot subtraction of two vectors\n",
    "Now that you have a sense of what it means to add two vectors, what do you think happens when you subtract two vectors instead?\n",
    "\n",
    "**Question:** For example, what would the following vector substraction look like in a plot?\n",
    "\n",
    "$$\n",
    "\\begin{bmatrix} -2 \\\\ 8 \\end{bmatrix}\n",
    "-\n",
    "\\begin{bmatrix} 3 \\\\ 6 \\end{bmatrix}\n",
    "$$\n",
    "\n",
    "Answer:\n",
    "$$\n",
    "\\begin{bmatrix} -5 \\\\ 2 \\end{bmatrix}\n",
    "$$"
   ]
  },
  {
   "cell_type": "markdown",
   "metadata": {},
   "source": [
    "**Optional challenge:** Using the ``plot_vector_sum`` as a base, try writing a function that plots the substraction of two vectors $u$ and $v$ (i.e. $u - v$)."
   ]
  },
  {
   "cell_type": "code",
   "execution_count": 46,
   "metadata": {
    "collapsed": false
   },
   "outputs": [
    {
     "data": {
      "image/png": "[encoded data removed]",
      "text/plain": [
       "<matplotlib.figure.Figure at 0xafaf170f60>"
      ]
     },
     "metadata": {},
     "output_type": "display_data"
    }
   ],
   "source": [
    "# add your function here\n",
    "\n",
    "\n",
    "# then use your function to plot the vector subtraction above:\n",
    "#\n",
    "#  u - v = [ -2 ]  - [ 3 ]\n",
    "#          [  8 ]  - [ 6 ]\n",
    "#\n",
    "# RUN THIS CODE CELL AS-IS\n",
    "#\n",
    "# helper functions to plot vectors\n",
    "\n",
    "    \n",
    "    \n",
    "# plot the subtraction of two vectors\n",
    "def plot_vector_sub(j, k):   \n",
    "    # plot individual vectors\n",
    "    plot_vector(j, name='j', color='b')\n",
    "    plot_vector(-k, name='- k', color='g')\n",
    "    plot_vector(k, name='k', color='y')\n",
    "    \n",
    "    # dashed u\n",
    "    j_dashed_x = [-k[0], -k[0]+ j[0] ]\n",
    "    j_dashed_y = [-k[1], -k[1]+ j[1] ]\n",
    "    plt.plot(j_dashed_x, j_dashed_y, 'b--', label='j*')\n",
    "    \n",
    "    # dashed v\n",
    "    k_dashed_x = [j[0], j[0]- k[0] ]\n",
    "    k_dashed_y = [j[1], j[1]- k[1] ]\n",
    "    plt.plot(k_dashed_x, k_dashed_y, 'g--', label='- k*')\n",
    "    \n",
    "    # plot the sum: u - v\n",
    "    plot_vector(j - k, name='j - k', color='r')\n",
    "    \n",
    "    # add a legend outside the plot\n",
    "    plt.legend(bbox_to_anchor=(1.3, 0.8))\n",
    "\n",
    "    # change the axis range\n",
    "    plt.xlim([-15, 15])\n",
    "    plt.ylim([-15, 15])\n",
    "    \n",
    "    plt.show()\n",
    "    \n",
    "# create the two vectors\n",
    "j = np.asarray([-2, 8])\n",
    "k = np.asarray([3, 6])\n",
    "\n",
    "# plot the sum of the two vectors\n",
    "plot_vector_sub(j, k)"
   ]
  },
  {
   "cell_type": "markdown",
   "metadata": {},
   "source": [
    "## 2) Functions of multiple variables and partial derivatives\n",
    "- surface plots\n",
    "- contour plots\n",
    "- 3D surface plots\n",
    "\n",
    "Then do 1 or 2 example problems:\n",
    "- given: f(x, y)\n",
    "- plot in 3D\n",
    "- plot slice of f(x, y) in y-direction\n",
    "- plot slice of f(x, y) in x-direction\n",
    "- partial derivative in x and y\n",
    "- plot partial derivative in x and y"
   ]
  },
  {
   "cell_type": "markdown",
   "metadata": {
    "collapsed": true
   },
   "source": [
    "## 2) Visualizing beyond 2D\n",
    "Since we'll be dealing with functions of multiple variables, we need to consider how we will visualize such functions. Although there are many options, let's start by focusing on a 3D surface plot."
   ]
  },
  {
   "cell_type": "markdown",
   "metadata": {},
   "source": [
    "## 2.1) Surface plots\n",
    "In the code below, we'll visualize the elevation of Mt Bruno (aka San Bruno Mountain), which is a mountain in San Mateo County, CA. The idea is to load the elevation data and then visualize it in 3D. Although we're using measured data, the same concepts will apply when working with mathematical functions.\n",
    "\n",
    "More info on the mountain:\n",
    "- Google Maps link: https://goo.gl/maps/QWfLdQ8zCay\n",
    "- Wikipedia page: https://en.wikipedia.org/wiki/San_Bruno_Mountain"
   ]
  },
  {
   "cell_type": "code",
   "execution_count": 25,
   "metadata": {
    "collapsed": false
   },
   "outputs": [
    {
     "data": {
      "image/png": "[encoded data removed]",
      "text/plain": [
       "<matplotlib.figure.Figure at 0xafaf16f908>"
      ]
     },
     "metadata": {},
     "output_type": "display_data"
    }
   ],
   "source": [
    "# create vectors that define the axis range we want to plot\n",
    "x = np.arange(0, 25)\n",
    "y = np.arange(0, 25)\n",
    "\n",
    "# convert the vectors for plotting\n",
    "X, Y = np.meshgrid(x, y)\n",
    "\n",
    "# initialize the 3D figure\n",
    "fig = plt.figure(figsize=(10, 6))\n",
    "ax = fig.gca(projection='3d')\n",
    "\n",
    "# load the Mt. Bruno data:\n",
    "# - 25 rows\n",
    "# - 25 columns\n",
    "#\n",
    "Z = np.genfromtxt('mt_bruno_elevation.csv', delimiter=',')\n",
    "\n",
    "# plot the data as a 3D surface\n",
    "ax.plot_surface(X, Y, Z, cmap='BuPu')\n",
    "\n",
    "# add axes labels\n",
    "ax.set_xlabel('length')\n",
    "ax.set_ylabel('width')\n",
    "ax.set_zlabel('height')\n",
    "ax.set_title('Mt. Bruno Surface Plot')\n",
    "\n",
    "plt.show()"
   ]
  },
  {
   "cell_type": "markdown",
   "metadata": {
    "collapsed": true
   },
   "source": [
    "**Task:** Try out other colormaps (i.e. change ``cmap`` in the code), and pick one that you think is \"best\".\n",
    "\n",
    "Examples:\n",
    "- ``Reds``\n",
    "- ``BuPu``\n",
    "- ``cubehelix``\n",
    "\n",
    "Full list of built-in Matplotlib colormaps: http://matplotlib.org/examples/color/colormaps_reference.html"
   ]
  },
  {
   "cell_type": "markdown",
   "metadata": {
    "collapsed": true
   },
   "source": [
    "## 3) Example multivariable function: $f(x, y) = x^2 + \\sin (y^2)$\n",
    "We'll start with a function of two variables ($x$ and $y$):\n",
    "\n",
    "$$\n",
    "f(x, y) = x^2 + \\sin (y^2)\n",
    "$$\n",
    "\n",
    "In this section, we will explore the behavior of the function and its partial derivatives."
   ]
  },
  {
   "cell_type": "markdown",
   "metadata": {},
   "source": [
    "## 3.1) Plot slices along the y-axis\n",
    "We'll begin by  plotting slices of the function along the y-axis. In other words, plot $f(x, y)$ vs. $x$ with a set value of $y$ (e.g. 0.5)."
   ]
  },
  {
   "cell_type": "code",
   "execution_count": 50,
   "metadata": {
    "collapsed": false
   },
   "outputs": [
    {
     "ename": "TypeError",
     "evalue": "ufunc 'bitwise_xor' not supported for the input types, and the inputs could not be safely coerced to any supported types according to the casting rule ''safe''",
     "output_type": "error",
     "traceback": [
      "\u001b[1;31m---------------------------------------------------------------------------\u001b[0m",
      "\u001b[1;31mTypeError\u001b[0m                                 Traceback (most recent call last)",
      "\u001b[1;32m<ipython-input-50-c7b9ce762a6c>\u001b[0m in \u001b[0;36m<module>\u001b[1;34m()\u001b[0m\n\u001b[0;32m      6\u001b[0m \u001b[1;33m\u001b[0m\u001b[0m\n\u001b[0;32m      7\u001b[0m \u001b[1;31m# calculate f(x, y)\u001b[0m\u001b[1;33m\u001b[0m\u001b[1;33m\u001b[0m\u001b[0m\n\u001b[1;32m----> 8\u001b[1;33m \u001b[0mz\u001b[0m \u001b[1;33m=\u001b[0m \u001b[1;33m(\u001b[0m\u001b[0mx\u001b[0m\u001b[1;33m^\u001b[0m\u001b[1;36m2\u001b[0m\u001b[1;33m)\u001b[0m \u001b[1;33m+\u001b[0m \u001b[0msin\u001b[0m\u001b[1;33m(\u001b[0m\u001b[1;36m0.25\u001b[0m\u001b[1;33m)\u001b[0m\u001b[1;33m\u001b[0m\u001b[0m\n\u001b[0m\u001b[0;32m      9\u001b[0m \u001b[1;33m\u001b[0m\u001b[0m\n\u001b[0;32m     10\u001b[0m \u001b[1;31m# plot f(x, y) vs x\u001b[0m\u001b[1;33m\u001b[0m\u001b[1;33m\u001b[0m\u001b[0m\n",
      "\u001b[1;31mTypeError\u001b[0m: ufunc 'bitwise_xor' not supported for the input types, and the inputs could not be safely coerced to any supported types according to the casting rule ''safe''"
     ]
    }
   ],
   "source": [
    "# choose a range of x values to plot\n",
    "x = np.arange(-3, 3, 0.025)\n",
    "\n",
    "# pick a y value where we'll \"slice\" the plot (so it's only 2D)\n",
    "y = 0.5\n",
    "\n",
    "# calculate f(x, y)\n",
    "z = (x^2) + sin(0.25)\n",
    "\n",
    "# plot f(x, y) vs x\n",
    "plt.plot(y, z)\n",
    "\n",
    "# add labels\n",
    "plt.xlabel('???')\n",
    "plt.ylabel('???')\n",
    "plt.title('???')\n",
    "\n",
    "plt.show()"
   ]
  },
  {
   "cell_type": "markdown",
   "metadata": {},
   "source": [
    "**Task:** Try plotting the function at multiple values of $y$, from -3 to +3."
   ]
  },
  {
   "cell_type": "markdown",
   "metadata": {},
   "source": [
    "**Question:** What shape does the function resemble along the y-axis? I.e. as you change the value of $y$, what shape does the plot seem to outline?\n",
    "\n",
    "**Answer:** (insert your answer here)"
   ]
  },
  {
   "cell_type": "markdown",
   "metadata": {},
   "source": [
    "## 3.2) Plot slices along the x-axis\n",
    "Do the same as above, but for fixed values of $x$ (i.e. plot $f(x, y)$ vs. $y$)."
   ]
  },
  {
   "cell_type": "code",
   "execution_count": null,
   "metadata": {
    "collapsed": false
   },
   "outputs": [],
   "source": [
    "# choose a range of y values to plot\n",
    "y = np.arange(-3, 3, 0.025)\n",
    "\n",
    "# pick a x value where we'll \"slice\" the plot (so it's only 2D)\n",
    "x = ???\n",
    "\n",
    "# calculate f(x, y)\n",
    "z = ???\n",
    "\n",
    "# plot f(x, y) vs y\n",
    "plt.plot(???, ???)\n",
    "\n",
    "# add labels\n",
    "plt.xlabel('???')\n",
    "plt.ylabel('???')\n",
    "plt.title('???')\n",
    "\n",
    "plt.show()"
   ]
  },
  {
   "cell_type": "markdown",
   "metadata": {},
   "source": [
    "**Task:** Try plotting the function at multiple values of $x$, from -3 to +3."
   ]
  },
  {
   "cell_type": "markdown",
   "metadata": {},
   "source": [
    "**Question:** What shape does the function resemble along the x-axis? I.e. as you change the value of $x$, what shape does the plot seem to outline?\n",
    "\n",
    "**Answer:** (insert your answer here)"
   ]
  },
  {
   "cell_type": "markdown",
   "metadata": {
    "collapsed": true
   },
   "source": [
    "## 3.3) Plot in 3D\n",
    "From the plots above, you may be able to visualize the shape of the function in 3D. To check, we'll plot the function as a 3D surface. Run the code below **as-is** to see the result."
   ]
  },
  {
   "cell_type": "code",
   "execution_count": null,
   "metadata": {
    "collapsed": false
   },
   "outputs": [],
   "source": [
    "# setup the 3D grid of points\n",
    "x = np.arange(-3, 3, 0.025)\n",
    "y = np.arange(-3, 3, 0.025)\n",
    "\n",
    "# restructure the variables for use in the 3D plot\n",
    "X, Y = np.meshgrid(x, y)\n",
    "\n",
    "# calculate the function value: z = x^2 + sin(y^2)\n",
    "Z = (X ** 2) + np.sin(Y ** 2)\n",
    "\n",
    "# initialize the 3D figure\n",
    "fig = plt.figure(figsize=(10, 6))\n",
    "ax = fig.gca(projection='3d')\n",
    "\n",
    "# plot the surface\n",
    "ax.plot_surface(???, Y, Z, cmap='???')\n",
    "\n",
    "# add labels\n",
    "plt.xlabel('???')\n",
    "plt.ylabel('???')\n",
    "plt.zlabel('???')\n",
    "plt.title('???')\n",
    "\n",
    "plt.show()"
   ]
  },
  {
   "cell_type": "markdown",
   "metadata": {},
   "source": [
    "Let's take a step further and plot the 3D surface side-by-side with the slices. Run this code **as-is** and play around with the interactive sliders.\n",
    "\n",
    "**NOTE:** The code may be slow to refresh, so be patient."
   ]
  },
  {
   "cell_type": "code",
   "execution_count": null,
   "metadata": {
    "collapsed": false
   },
   "outputs": [],
   "source": [
    "def plot_surface_problem3(x0, y0):\n",
    "    \n",
    "    # resolution\n",
    "    delta = 0.1\n",
    "    \n",
    "    # set up the three subfigures\n",
    "    fig = plt.figure(figsize=(14, 8))\n",
    "    ax_3d = fig.add_subplot(1, 2, 1, projection='3d')\n",
    "    ax_x_slice = fig.add_subplot(2, 2, 2)\n",
    "    ax_y_slice = fig.add_subplot(2, 2, 4)\n",
    "    \n",
    "    #===========================\n",
    "    # plot the x-slice (f(x, y) vs. y with x=constant)\n",
    "    x = x0\n",
    "    y = np.arange(-3, 3, delta)\n",
    "    z = (x ** 2) + np.sin(y **2)\n",
    "    ax_x_slice.plot(y, z, color='red')\n",
    "    \n",
    "    # add labels\n",
    "    ax_x_slice.set_xlabel('y')\n",
    "    ax_x_slice.set_ylabel('f(x, y)')\n",
    "    \n",
    "    #===========================\n",
    "    # plot the y-slice (f(x, y) vs. x with y=constant)\n",
    "    x = np.arange(-3, 3, delta)\n",
    "    y = y0\n",
    "    z = (x ** 2) + np.sin(y **2)\n",
    "    ax_y_slice.plot(x, z, color='green', linestyle='--')\n",
    "    \n",
    "    # add labels\n",
    "    ax_y_slice.set_xlabel('x')\n",
    "    ax_y_slice.set_ylabel('f(x, y)')\n",
    "    \n",
    "    #===========================\n",
    "    # plot the 3D surface\n",
    "    x = np.arange(-3, 3, delta)\n",
    "    y = np.arange(-3, 3, delta)\n",
    "    X, Y = np.meshgrid(x, y)\n",
    "    Z = (X ** 2) + np.sin(Y **2)\n",
    "    ax_3d.plot_surface(X, Y, Z, cmap='Greys',\n",
    "                      rstride=2,\n",
    "                      cstride=2,\n",
    "                      linewidth=0,\n",
    "                      antialiased=True)\n",
    "    \n",
    "    # add labels\n",
    "    ax_3d.set_xlabel('x')\n",
    "    ax_3d.set_ylabel('y')\n",
    "    ax_3d.set_zlabel('f(x, y)')\n",
    "    \n",
    "    # add the x-slice onto the 3D plot\n",
    "    y = np.arange(-3, 3, delta)\n",
    "    x = np.ones_like(y) * x0\n",
    "    z = (x ** 2) + np.sin(y **2)\n",
    "    ax_3d.plot(x, y, z, color='red', linestyle='-', linewidth=2)\n",
    "    \n",
    "    # add the y-slice onto the 3D plot\n",
    "    x = np.arange(-3, 3, delta)\n",
    "    y = np.ones_like(x) * y0\n",
    "    z = (x ** 2) + np.sin(y **2)\n",
    "    ax_3d.plot(x, y, z, color='green', linestyle='--', linewidth=2)\n",
    "    \n",
    "    \n",
    "    # change the viewing angle of the 3D plot\n",
    "    ax_3d.view_init(55, 65)\n",
    "    plt.draw()\n",
    "    \n",
    "    # show the plot\n",
    "    plt.show()\n",
    "    \n",
    "\n",
    "# try it out\n",
    "interact(plot_surface_problem3,\n",
    "         x0=FloatSlider(min=-3, max=3, step=0.1, continuous_update=False),\n",
    "         y0=FloatSlider(min=-3, max=3, step=0.1, continuous_update=False)\n",
    "        )"
   ]
  },
  {
   "cell_type": "markdown",
   "metadata": {},
   "source": [
    "## 3.4) What is the partial derivative with respect to x?\n",
    "What is the partial derivative of $f(x, y)$ with respect to $x$?\n",
    "\n",
    "Answer:\n",
    "\n",
    "$$\n",
    "\\frac{\\partial}{\\partial x} f(x, y) = ???\n",
    "$$\n"
   ]
  },
  {
   "cell_type": "markdown",
   "metadata": {},
   "source": [
    "## 3.5) Plot the partial derivative with respect to x\n",
    "Now plot the partial derivative $\\partial f/\\partial x$ (in 2D)."
   ]
  },
  {
   "cell_type": "code",
   "execution_count": null,
   "metadata": {
    "collapsed": false
   },
   "outputs": [],
   "source": [
    "# choose a range of x-values\n",
    "x = np.arange(-3, +3, 0.025)\n",
    "\n",
    "# calculate df/dx\n",
    "dfdx = ???\n",
    "\n",
    "# plot df/dx vs x\n",
    "plt.plot(???, ???)\n",
    "\n",
    "# add labels\n",
    "plt.xlabel('x')\n",
    "plt.ylabel('???')\n",
    "\n",
    "plt.show()"
   ]
  },
  {
   "cell_type": "markdown",
   "metadata": {},
   "source": [
    "**Question:** What does the partial derivative look like? Any comments or observations about its shape (and possible meaning)?\n",
    "\n",
    "**Answer:** (insert answer here)"
   ]
  },
  {
   "cell_type": "markdown",
   "metadata": {},
   "source": [
    "## 3.6) What is the partial derivative with respect to y?\n",
    "What is the partial derivative of $f(x, y)$ with respect to $y$?\n",
    "\n",
    "Answer:\n",
    "\n",
    "$$\n",
    "\\frac{\\partial}{\\partial y} f(x, y) = ???\n",
    "$$\n"
   ]
  },
  {
   "cell_type": "markdown",
   "metadata": {},
   "source": [
    "## 3.5) Plot the partial derivative with respect to y\n",
    "Now plot the partial derivative $\\partial f/\\partial y$ (in 2D)."
   ]
  },
  {
   "cell_type": "code",
   "execution_count": null,
   "metadata": {
    "collapsed": false
   },
   "outputs": [],
   "source": [
    "# choose a range of y-values\n",
    "y = np.arange(-3, +3, 0.025)\n",
    "\n",
    "# calculate df/dy\n",
    "dfdy = ???\n",
    "\n",
    "# plot df/dy vs y\n",
    "plt.plot(???, ???)\n",
    "\n",
    "# add labels\n",
    "plt.xlabel('???')\n",
    "plt.ylabel('???')\n",
    "\n",
    "plt.show()"
   ]
  },
  {
   "cell_type": "markdown",
   "metadata": {},
   "source": [
    "**Question:** What does the partial derivative look like? Any comments or observations about its shape (and possible meaning)?\n",
    "\n",
    "**Answer:** (insert answer here)"
   ]
  },
  {
   "cell_type": "markdown",
   "metadata": {},
   "source": [
    "**Optional challenge:** Try making a 3D plot of the partial derivatives (i.e. plot $\\partial f/\\partial x$ vs $x$ and $y$, and $\\partial f/\\partial y$ vs $x$ and $y$).\n",
    "\n",
    "*Hint*: you can re-use the 3D plot code from Section 3.3."
   ]
  },
  {
   "cell_type": "code",
   "execution_count": null,
   "metadata": {
    "collapsed": true
   },
   "outputs": [],
   "source": []
  },
  {
   "cell_type": "markdown",
   "metadata": {},
   "source": [
    "## 4) Lab Submission\n",
    "Once you have completed all the code sections and answered the questions, you will submit the lab via email:\n",
    "1. rename your notebook to include your name (e.g. ``eng10_lab02_firstname_lastname``)\n",
    "2. save your notebook (File >> Save and Checkpoint)\n",
    "3. open up your email\n",
    "4. attach the notebook file (e.g. ``eng10_lab02_firstname_lastname.ipynb``)\n",
    "5. send the email to your TA (see below)\n",
    "\n",
    "Email addresses of the TAs:\n",
    "- Section B00: Tianqi Ren <tren@ucsd.edu>\n",
    "- Section C00: Kyungah Seo <k1seo@eng.ucsd.edu>\n",
    "\n",
    "**NOTE**: labs are due 1 week from the assignment date:\n",
    "- lab assigned Tuesday: lab due by 11:59pm the following Tuesday\n",
    "- lab assigned Thursday: lab due by 11:59pm the following Thursday"
   ]
  }
 ],
 "metadata": {
  "anaconda-cloud": {},
  "kernelspec": {
   "display_name": "Python [Root]",
   "language": "python",
   "name": "Python [Root]"
  },
  "language_info": {
   "codemirror_mode": {
    "name": "ipython",
    "version": 3
   },
   "file_extension": ".py",
   "mimetype": "text/x-python",
   "name": "python",
   "nbconvert_exporter": "python",
   "pygments_lexer": "ipython3",
   "version": "3.5.2"
  }
 },
 "nbformat": 4,
 "nbformat_minor": 0
}
